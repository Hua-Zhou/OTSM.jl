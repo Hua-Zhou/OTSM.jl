{
 "cells": [
  {
   "cell_type": "markdown",
   "metadata": {},
   "source": [
    "# OTSM.jl\n",
    "\n",
    "OTSM.jl implements algorithms for solving the orthogonal trace sum maximization (OTSM) problem\n",
    "  \n",
    "$\\operatorname{maximize} \\sum_{i,j=1}^m \\operatorname{tr} (O_i^T S_{ij} O_j)$\n",
    "\n",
    "subject to orthogonality constraint $O_i^T O_i = I_r$. Here $S_{ij} \\in \\mathbb{R}^{d_i \\times d_j}$, $1 \\le i, j \\le m$, are data matrices. $S_{ii}$ are symmetric and $S_{ij} = S_{ji}^T$. Many problems such as canonical correlation analysis (CCA) with $m \\ge 2$ data sets, Procrustes analysis with $m \\ge 2$ images, orthogonal least squares, and MaxBet are special cases of OSTM. \n",
    "\n",
    "Details on OTSM are described in paper: \n",
    "\n",
    "* Joong-Ho Won, Hua Zhou, and Kenneth Lange. (2018) Orthogonal trace-sum maximization: applications, local algorithms, and global optimality, [arXiv](https://arxiv.org/abs/1811.03521). "
   ]
  },
  {
   "cell_type": "markdown",
   "metadata": {},
   "source": [
    "## Installation\n",
    "\n",
    "OTSM.jl requires Julia v1.0 or later. The package has not yet been registered and must be installed using the repository location. Start julia and use the `]` key to switch to the package manager REPL\n",
    "```julia\n",
    "(@v1.4) pkg> add https://github.com/Hua-Zhou/OTSM.jl\n",
    "```\n",
    "Use the backspace key to return to the Julia REPL."
   ]
  },
  {
   "cell_type": "code",
   "execution_count": 1,
   "metadata": {},
   "outputs": [
    {
     "name": "stdout",
     "output_type": "stream",
     "text": [
      "Julia Version 1.5.0\n",
      "Commit 96786e22cc (2020-08-01 23:44 UTC)\n",
      "Platform Info:\n",
      "  OS: macOS (x86_64-apple-darwin18.7.0)\n",
      "  CPU: Intel(R) Core(TM) i7-6920HQ CPU @ 2.90GHz\n",
      "  WORD_SIZE: 64\n",
      "  LIBM: libopenlibm\n",
      "  LLVM: libLLVM-9.0.1 (ORCJIT, skylake)\n",
      "Environment:\n",
      "  JULIA_EDITOR = code\n",
      "  JULIA_NUM_THREADS = 4\n"
     ]
    }
   ],
   "source": [
    "versioninfo()"
   ]
  },
  {
   "cell_type": "code",
   "execution_count": 2,
   "metadata": {},
   "outputs": [],
   "source": [
    "# for use in this tutorial\n",
    "using OTSM"
   ]
  },
  {
   "cell_type": "markdown",
   "metadata": {},
   "source": [
    "## Algorithms"
   ]
  },
  {
   "cell_type": "markdown",
   "metadata": {},
   "source": [
    "### Proximal block ascent algorithm\n",
    "\n",
    "The `otsm_pba()` function implements an efficient local search algorithm for solving OTSM.\n",
    "\n",
    "For documentation of the `otsm_pba()` function, type `?otsm_bpa` in Julia REPL.\n",
    "```@docs\n",
    "otsm_pba\n",
    "```"
   ]
  },
  {
   "cell_type": "markdown",
   "metadata": {},
   "source": [
    "### Semidefinite programming (SDP) relaxation \n",
    "\n",
    "The `otsm_sdp()` function implements an SDP relaxation approach for solving OTSM.\n",
    "\n",
    "For documentation of the `otsm_sdp()` function, type `?otsm_sdp` in Julia REPL.\n",
    "```@docs\n",
    "otsm_sdp\n",
    "```"
   ]
  },
  {
   "cell_type": "markdown",
   "metadata": {},
   "source": [
    "## Start point\n",
    "\n",
    "Different strategies for starting point are implemented."
   ]
  },
  {
   "cell_type": "markdown",
   "metadata": {},
   "source": [
    "### Initialize $O_i$ by $I_r$\n",
    "\n",
    "```@docs\n",
    "init_eye\n",
    "```"
   ]
  },
  {
   "cell_type": "markdown",
   "metadata": {},
   "source": [
    "### Initialize $O_i$ by a strategy by Ten Berge (default)\n",
    "\n",
    "This is the default for the proximal block ascent algorithm `otsm_pba`.\n",
    "\n",
    "```@docs\n",
    "init_tb\n",
    "```"
   ]
  },
  {
   "cell_type": "markdown",
   "metadata": {},
   "source": [
    "### Initialize $O_i$ by a strategy by Liu-Wang-Wang \n",
    "\n",
    "```@docs\n",
    "init_lww1\n",
    "```"
   ]
  },
  {
   "cell_type": "markdown",
   "metadata": {},
   "source": [
    "### Initialize $O_i$ by a strategy by Shapiro-Botha and Won-Zhou-Lange\n",
    "\n",
    "```@docs\n",
    "init_sb\n",
    "```"
   ]
  },
  {
   "cell_type": "markdown",
   "metadata": {
    "toc-hr-collapsed": true,
    "toc-nb-collapsed": true
   },
   "source": [
    "## Example data - Port Wine\n",
    "\n",
    "The package contains the port wine example data set from the [Hanafi and Kiers (2006)](https://doi.org/10.1016/j.csda.2006.04.020) paper. It can be retrieved by the `portwine_data()` function."
   ]
  },
  {
   "cell_type": "code",
   "execution_count": 3,
   "metadata": {},
   "outputs": [],
   "source": [
    "A, _, _ = portwine_data();"
   ]
  },
  {
   "cell_type": "markdown",
   "metadata": {},
   "source": [
    "Data matrices A1, A2, A3, A4 record the ratings (centered at 0) of $m=4$ accessors on 8 port wines in $d_1=4$, $d_2=3$, $d_3=4$, and $d_4=3$ aspects respectively. "
   ]
  },
  {
   "cell_type": "code",
   "execution_count": 4,
   "metadata": {},
   "outputs": [
    {
     "data": {
      "text/plain": [
       "8×4 Array{Float64,2}:\n",
       "  1.25  -5.0  -1.375   3.875\n",
       " -0.75   1.0  -0.375  -1.125\n",
       "  1.25  -3.0  -1.375   0.875\n",
       " -0.75   2.0   0.625  -0.125\n",
       " -0.75   2.0  -0.375  -0.125\n",
       "  0.25   3.0  -0.375  -3.125\n",
       " -0.75  -1.0   3.625  -1.125\n",
       "  0.25   1.0  -0.375   0.875"
      ]
     },
     "metadata": {},
     "output_type": "display_data"
    },
    {
     "data": {
      "text/plain": [
       "8×3 Array{Float64,2}:\n",
       "  2.0  -4.375   0.625\n",
       "  1.0   1.625   0.625\n",
       "  1.0  -1.375   2.625\n",
       " -1.0   1.625  -1.375\n",
       "  0.0   0.625   0.625\n",
       " -1.0   0.625  -0.375\n",
       " -2.0  -0.375  -2.375\n",
       "  0.0   1.625  -0.375"
      ]
     },
     "metadata": {},
     "output_type": "display_data"
    },
    {
     "data": {
      "text/plain": [
       "8×4 Array{Float64,2}:\n",
       "  3.125   3.0  -2.5   0.75\n",
       " -1.875  -1.0   1.5   0.75\n",
       "  2.125   2.0  -0.5   1.75\n",
       " -1.875  -1.0   1.5  -1.25\n",
       "  1.125   0.0   0.5   0.75\n",
       " -0.875  -1.0   0.5  -0.25\n",
       " -1.875  -1.0  -0.5  -2.25\n",
       "  0.125  -1.0  -0.5  -0.25"
      ]
     },
     "metadata": {},
     "output_type": "display_data"
    },
    {
     "data": {
      "text/plain": [
       "8×3 Array{Float64,2}:\n",
       "  1.0   0.125   0.375\n",
       "  0.0  -0.875  -1.625\n",
       "  2.0  -0.875  -1.625\n",
       " -1.0   0.125  -0.625\n",
       "  0.0   0.125  -0.625\n",
       "  0.0   1.125   1.375\n",
       " -2.0  -1.875   1.375\n",
       "  0.0   2.125   1.375"
      ]
     },
     "metadata": {},
     "output_type": "display_data"
    }
   ],
   "source": [
    "for i in 1:4\n",
    "    display(A[i])\n",
    "end"
   ]
  },
  {
   "cell_type": "markdown",
   "metadata": {},
   "source": [
    "## MAXDIFF\n",
    "\n",
    "The MAXDIFF approach for CCA seeks the rotations of $A_i$ that achieve the maximal agreement\n",
    "\n",
    "$\\operatorname{maximize} 2 \\sum_{i < j} \\operatorname{tr} (O_i^T A_i^T A_j O_j),$\n",
    "\n",
    "subject to constraint $O_i^T O_i = I_r$. This corresponds to an OTSM problem with $S_{ij} = A_i^T A_j$ and $S_{ii} = 0$."
   ]
  },
  {
   "cell_type": "code",
   "execution_count": 5,
   "metadata": {},
   "outputs": [
    {
     "data": {
      "text/plain": [
       "4×4 Array{Float64,2}:\n",
       " 0.0  0.0  0.0  0.0\n",
       " 0.0  0.0  0.0  0.0\n",
       " 0.0  0.0  0.0  0.0\n",
       " 0.0  0.0  0.0  0.0"
      ]
     },
     "metadata": {},
     "output_type": "display_data"
    },
    {
     "data": {
      "text/plain": [
       "3×4 Array{Float64,2}:\n",
       "  5.0   -15.0  -12.0     13.0\n",
       " -9.25   36.0    5.875  -20.375\n",
       "  5.75  -11.0  -14.125    7.625"
      ]
     },
     "metadata": {},
     "output_type": "display_data"
    },
    {
     "data": {
      "text/plain": [
       "4×4 Array{Float64,2}:\n",
       "  9.75  -26.0  -14.625   21.125\n",
       "  8.0   -27.0  -10.0     18.0\n",
       " -6.0    21.0    2.5    -13.5\n",
       "  4.5    -8.0  -12.75     6.75"
      ]
     },
     "metadata": {},
     "output_type": "display_data"
    },
    {
     "data": {
      "text/plain": [
       "3×4 Array{Float64,2}:\n",
       " 6.0   -11.0  -12.0     8.0\n",
       " 1.75    9.0   -6.625   1.125\n",
       " 0.25    3.0    6.125  -2.625"
      ]
     },
     "metadata": {},
     "output_type": "display_data"
    },
    {
     "data": {
      "text/plain": [
       "4×3 Array{Float64,2}:\n",
       "   5.0   -9.25     5.75\n",
       " -15.0   36.0    -11.0\n",
       " -12.0    5.875  -14.125\n",
       "  13.0  -20.375    7.625"
      ]
     },
     "metadata": {},
     "output_type": "display_data"
    },
    {
     "data": {
      "text/plain": [
       "3×3 Array{Float64,2}:\n",
       " 0.0  0.0  0.0\n",
       " 0.0  0.0  0.0\n",
       " 0.0  0.0  0.0"
      ]
     },
     "metadata": {},
     "output_type": "display_data"
    },
    {
     "data": {
      "text/plain": [
       "4×3 Array{Float64,2}:\n",
       " 13.0  -21.625  14.375\n",
       " 11.0  -21.0    11.0\n",
       " -5.0   16.5    -2.5\n",
       " 10.0   -5.75   13.25"
      ]
     },
     "metadata": {},
     "output_type": "display_data"
    },
    {
     "data": {
      "text/plain": [
       "3×3 Array{Float64,2}:\n",
       "  9.0  -8.0    12.0\n",
       "  1.0   4.375   0.375\n",
       " -6.0  -0.875  -8.875"
      ]
     },
     "metadata": {},
     "output_type": "display_data"
    },
    {
     "data": {
      "text/plain": [
       "4×4 Array{Float64,2}:\n",
       "   9.75     8.0   -6.0    4.5\n",
       " -26.0    -27.0   21.0   -8.0\n",
       " -14.625  -10.0    2.5  -12.75\n",
       "  21.125   18.0  -13.5    6.75"
      ]
     },
     "metadata": {},
     "output_type": "display_data"
    },
    {
     "data": {
      "text/plain": [
       "3×4 Array{Float64,2}:\n",
       "  13.0     11.0  -5.0  10.0\n",
       " -21.625  -21.0  16.5  -5.75\n",
       "  14.375   11.0  -2.5  13.25"
      ]
     },
     "metadata": {},
     "output_type": "display_data"
    },
    {
     "data": {
      "text/plain": [
       "4×4 Array{Float64,2}:\n",
       " 0.0  0.0  0.0  0.0\n",
       " 0.0  0.0  0.0  0.0\n",
       " 0.0  0.0  0.0  0.0\n",
       " 0.0  0.0  0.0  0.0"
      ]
     },
     "metadata": {},
     "output_type": "display_data"
    },
    {
     "data": {
      "text/plain": [
       "3×4 Array{Float64,2}:\n",
       " 13.0    10.0  -4.0  10.0\n",
       "  2.875  -2.0  -0.5   1.25\n",
       " -2.375  -4.0  -4.5  -7.25"
      ]
     },
     "metadata": {},
     "output_type": "display_data"
    },
    {
     "data": {
      "text/plain": [
       "4×3 Array{Float64,2}:\n",
       "   6.0   1.75    0.25\n",
       " -11.0   9.0     3.0\n",
       " -12.0  -6.625   6.125\n",
       "   8.0   1.125  -2.625"
      ]
     },
     "metadata": {},
     "output_type": "display_data"
    },
    {
     "data": {
      "text/plain": [
       "3×3 Array{Float64,2}:\n",
       "  9.0  1.0    -6.0\n",
       " -8.0  4.375  -0.875\n",
       " 12.0  0.375  -8.875"
      ]
     },
     "metadata": {},
     "output_type": "display_data"
    },
    {
     "data": {
      "text/plain": [
       "4×3 Array{Float64,2}:\n",
       " 13.0   2.875  -2.375\n",
       " 10.0  -2.0    -4.0\n",
       " -4.0  -0.5    -4.5\n",
       " 10.0   1.25   -7.25"
      ]
     },
     "metadata": {},
     "output_type": "display_data"
    },
    {
     "data": {
      "text/plain": [
       "3×3 Array{Float64,2}:\n",
       " 0.0  0.0  0.0\n",
       " 0.0  0.0  0.0\n",
       " 0.0  0.0  0.0"
      ]
     },
     "metadata": {},
     "output_type": "display_data"
    }
   ],
   "source": [
    "Smaxdiff = [A[i]'A[j] for i in 1:4, j in 1:4]\n",
    "for i in 1:4\n",
    "    fill!(Smaxdiff[i, i], 0)\n",
    "end\n",
    "display.(Smaxdiff);"
   ]
  },
  {
   "cell_type": "markdown",
   "metadata": {},
   "source": [
    "Proximal block ascent algorithm for finding a rank $r=2$ solution to MAXDIFF."
   ]
  },
  {
   "cell_type": "code",
   "execution_count": 6,
   "metadata": {},
   "outputs": [
    {
     "name": "stdout",
     "output_type": "stream",
     "text": [
      "iter = 1, obj = 539.8501989834106\n",
      "iter = 2, obj = 542.2346791607897\n",
      "iter = 3, obj = 542.3267553745872\n",
      "iter = 4, obj = 542.3275270111224\n",
      "iter = 5, obj = 542.3275503294589\n",
      "iter = 6, obj = 542.3275506362337\n",
      "iter = 7, obj = 542.3275506383454\n",
      "iter = 8, obj = 542.3275506383524\n"
     ]
    }
   ],
   "source": [
    "Ô_pba, ts_pba, obj, history = otsm_pba(Smaxdiff, 2; verbose = true);"
   ]
  },
  {
   "cell_type": "markdown",
   "metadata": {},
   "source": [
    "The `test_optimality()` function attempts to certify whether a local solution `O::Vector{Matrix}` is a global solution. The first output indicates the solution is `:infeasible`, `:suboptimal`, `:stationary_point`, or `:global_optimal`."
   ]
  },
  {
   "cell_type": "code",
   "execution_count": 7,
   "metadata": {},
   "outputs": [
    {
     "data": {
      "text/plain": [
       ":global_optimal"
      ]
     },
     "execution_count": 7,
     "metadata": {},
     "output_type": "execute_result"
    }
   ],
   "source": [
    "# proximal block ascent yields the global solution\n",
    "test_optimality(Ô_pba, Smaxdiff)[1]"
   ]
  },
  {
   "cell_type": "markdown",
   "metadata": {},
   "source": [
    "For documentation of the `test_optimality()` function, type `?test_optimality` in Julia REPL.\n",
    "```@docs\n",
    "test_optimality\n",
    "```"
   ]
  },
  {
   "cell_type": "markdown",
   "metadata": {},
   "source": [
    "## MAXBET\n",
    "\n",
    "The MAXBET approach for CCA seeks the rotations of $A_i$ that achieve the maximal agreement\n",
    "\n",
    "$\\operatorname{maximize} \\sum_{i,j} \\operatorname{tr} (O_i^T A_i^T A_j O_j),$\n",
    "\n",
    "subject to constraint $O_i^T O_i = I_r$. This corresponds to an OTSM problem with $S_{ij} = A_i^T A_j$."
   ]
  },
  {
   "cell_type": "code",
   "execution_count": 8,
   "metadata": {},
   "outputs": [
    {
     "data": {
      "text/plain": [
       "4×4 Array{Float64,2}:\n",
       "   5.5   -12.0  -6.25     7.25\n",
       " -12.0    54.0   6.0    -31.0\n",
       "  -6.25    6.0  17.875   -9.375\n",
       "   7.25  -31.0  -9.375   28.875"
      ]
     },
     "metadata": {},
     "output_type": "display_data"
    },
    {
     "data": {
      "text/plain": [
       "3×4 Array{Float64,2}:\n",
       "  5.0   -15.0  -12.0     13.0\n",
       " -9.25   36.0    5.875  -20.375\n",
       "  5.75  -11.0  -14.125    7.625"
      ]
     },
     "metadata": {},
     "output_type": "display_data"
    },
    {
     "data": {
      "text/plain": [
       "4×4 Array{Float64,2}:\n",
       "  9.75  -26.0  -14.625   21.125\n",
       "  8.0   -27.0  -10.0     18.0\n",
       " -6.0    21.0    2.5    -13.5\n",
       "  4.5    -8.0  -12.75     6.75"
      ]
     },
     "metadata": {},
     "output_type": "display_data"
    },
    {
     "data": {
      "text/plain": [
       "3×4 Array{Float64,2}:\n",
       " 6.0   -11.0  -12.0     8.0\n",
       " 1.75    9.0   -6.625   1.125\n",
       " 0.25    3.0    6.125  -2.625"
      ]
     },
     "metadata": {},
     "output_type": "display_data"
    },
    {
     "data": {
      "text/plain": [
       "4×3 Array{Float64,2}:\n",
       "   5.0   -9.25     5.75\n",
       " -15.0   36.0    -11.0\n",
       " -12.0    5.875  -14.125\n",
       "  13.0  -20.375    7.625"
      ]
     },
     "metadata": {},
     "output_type": "display_data"
    },
    {
     "data": {
      "text/plain": [
       "3×3 Array{Float64,2}:\n",
       "  12.0  -10.0    11.0\n",
       " -10.0   29.875  -7.125\n",
       "  11.0   -7.125  15.875"
      ]
     },
     "metadata": {},
     "output_type": "display_data"
    },
    {
     "data": {
      "text/plain": [
       "4×3 Array{Float64,2}:\n",
       " 13.0  -21.625  14.375\n",
       " 11.0  -21.0    11.0\n",
       " -5.0   16.5    -2.5\n",
       " 10.0   -5.75   13.25"
      ]
     },
     "metadata": {},
     "output_type": "display_data"
    },
    {
     "data": {
      "text/plain": [
       "3×3 Array{Float64,2}:\n",
       "  9.0  -8.0    12.0\n",
       "  1.0   4.375   0.375\n",
       " -6.0  -0.875  -8.875"
      ]
     },
     "metadata": {},
     "output_type": "display_data"
    },
    {
     "data": {
      "text/plain": [
       "4×4 Array{Float64,2}:\n",
       "   9.75     8.0   -6.0    4.5\n",
       " -26.0    -27.0   21.0   -8.0\n",
       " -14.625  -10.0    2.5  -12.75\n",
       "  21.125   18.0  -13.5    6.75"
      ]
     },
     "metadata": {},
     "output_type": "display_data"
    },
    {
     "data": {
      "text/plain": [
       "3×4 Array{Float64,2}:\n",
       "  13.0     11.0  -5.0  10.0\n",
       " -21.625  -21.0  16.5  -5.75\n",
       "  14.375   11.0  -2.5  13.25"
      ]
     },
     "metadata": {},
     "output_type": "display_data"
    },
    {
     "data": {
      "text/plain": [
       "4×4 Array{Float64,2}:\n",
       "  26.875   20.0  -13.5  12.25\n",
       "  20.0     18.0  -11.0   9.0\n",
       " -13.5    -11.0   12.0  -2.0\n",
       "  12.25     9.0   -2.0  11.5"
      ]
     },
     "metadata": {},
     "output_type": "display_data"
    },
    {
     "data": {
      "text/plain": [
       "3×4 Array{Float64,2}:\n",
       " 13.0    10.0  -4.0  10.0\n",
       "  2.875  -2.0  -0.5   1.25\n",
       " -2.375  -4.0  -4.5  -7.25"
      ]
     },
     "metadata": {},
     "output_type": "display_data"
    },
    {
     "data": {
      "text/plain": [
       "4×3 Array{Float64,2}:\n",
       "   6.0   1.75    0.25\n",
       " -11.0   9.0     3.0\n",
       " -12.0  -6.625   6.125\n",
       "   8.0   1.125  -2.625"
      ]
     },
     "metadata": {},
     "output_type": "display_data"
    },
    {
     "data": {
      "text/plain": [
       "3×3 Array{Float64,2}:\n",
       "  9.0  1.0    -6.0\n",
       " -8.0  4.375  -0.875\n",
       " 12.0  0.375  -8.875"
      ]
     },
     "metadata": {},
     "output_type": "display_data"
    },
    {
     "data": {
      "text/plain": [
       "4×3 Array{Float64,2}:\n",
       " 13.0   2.875  -2.375\n",
       " 10.0  -2.0    -4.0\n",
       " -4.0  -0.5    -4.5\n",
       " 10.0   1.25   -7.25"
      ]
     },
     "metadata": {},
     "output_type": "display_data"
    },
    {
     "data": {
      "text/plain": [
       "3×3 Array{Float64,2}:\n",
       " 10.0   2.0    -5.0\n",
       "  2.0  10.875   4.625\n",
       " -5.0   4.625  11.875"
      ]
     },
     "metadata": {},
     "output_type": "display_data"
    }
   ],
   "source": [
    "Smaxbet = [A[i]'A[j] for i in 1:4, j in 1:4]\n",
    "display.(Smaxbet);"
   ]
  },
  {
   "cell_type": "markdown",
   "metadata": {},
   "source": [
    "Proximal block ascent algorithm for finding a rank $r=2$ solution to MAXBET."
   ]
  },
  {
   "cell_type": "code",
   "execution_count": 9,
   "metadata": {},
   "outputs": [
    {
     "name": "stdout",
     "output_type": "stream",
     "text": [
      "iter = 1, obj = 769.5257682063867\n",
      "iter = 2, obj = 778.9896186367976\n",
      "iter = 3, obj = 779.6705236544664\n",
      "iter = 4, obj = 779.7414861674775\n",
      "iter = 5, obj = 779.7533232474001\n",
      "iter = 6, obj = 779.7561742783591\n",
      "iter = 7, obj = 779.7569547275212\n",
      "iter = 8, obj = 779.7571745803211\n",
      "iter = 9, obj = 779.7572368336032\n",
      "iter = 10, obj = 779.757254470489\n",
      "iter = 11, obj = 779.757259465814\n",
      "iter = 12, obj = 779.7572608802018\n",
      "iter = 13, obj = 779.7572612805834\n",
      "iter = 14, obj = 779.7572613939061\n",
      "iter = 15, obj = 779.7572614259773\n",
      "iter = 16, obj = 779.7572614350536\n",
      "iter = 17, obj = 779.7572614376224\n",
      "iter = 18, obj = 779.757261438349\n",
      "iter = 19, obj = 779.7572614385546\n",
      "iter = 20, obj = 779.7572614386131\n",
      "iter = 21, obj = 779.7572614386294\n",
      "iter = 22, obj = 779.7572614386343\n",
      "iter = 23, obj = 779.7572614386352\n",
      "iter = 24, obj = 779.7572614386353\n",
      "iter = 25, obj = 779.7572614386356\n"
     ]
    }
   ],
   "source": [
    "Ô_pba, ts_pba, obj, history = otsm_pba(Smaxbet, 2; verbose = true);"
   ]
  },
  {
   "cell_type": "markdown",
   "metadata": {},
   "source": [
    "This solution is certified to be global optimal."
   ]
  },
  {
   "cell_type": "code",
   "execution_count": 10,
   "metadata": {},
   "outputs": [
    {
     "data": {
      "text/plain": [
       ":global_optimal"
      ]
     },
     "execution_count": 10,
     "metadata": {},
     "output_type": "execute_result"
    }
   ],
   "source": [
    "# proximal block ascent yields the global solution\n",
    "test_optimality(Ô_pba, Smaxbet)[1]"
   ]
  }
 ],
 "metadata": {
  "@webio": {
   "lastCommId": null,
   "lastKernelId": null
  },
  "hide_input": false,
  "kernelspec": {
   "display_name": "Julia 1.5.0",
   "language": "julia",
   "name": "julia-1.5"
  },
  "language_info": {
   "file_extension": ".jl",
   "mimetype": "application/julia",
   "name": "julia",
   "version": "1.5.0"
  },
  "toc": {
   "colors": {
    "hover_highlight": "#DAA520",
    "running_highlight": "#FF0000",
    "selected_highlight": "#FFD700"
   },
   "moveMenuLeft": true,
   "nav_menu": {
    "height": "84px",
    "width": "252px"
   },
   "navigate_menu": true,
   "number_sections": true,
   "sideBar": true,
   "skip_h1_title": true,
   "threshold": 4,
   "toc_cell": false,
   "toc_position": {
    "height": "509px",
    "left": "0px",
    "right": "888.7999877929688px",
    "top": "106px",
    "width": "231px"
   },
   "toc_section_display": "block",
   "toc_window_display": true,
   "widenNotebook": false
  },
  "toc-autonumbering": true
 },
 "nbformat": 4,
 "nbformat_minor": 4
}
