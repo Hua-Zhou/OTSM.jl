{
 "cells": [
  {
   "cell_type": "markdown",
   "metadata": {},
   "source": [
    "# OTSM.jl\n",
    "\n",
    "OTSM.jl implements algorithms for solving the orthogonal trace sum maximization (OTSM) problem\n",
    "$$\n",
    "    \\operatorname{maximize} \\sum_{i,j=1}^m \\operatorname{tr} (O_i^T S_{ij} O_j)\n",
    "$$\n",
    "subject to orthogonality constraint $O_i^T O_i = I_r$. Here $S_{i,j} \\in \\mathbb{R}^{d_i \\times d_j}$, $1 \\le i, j \\le m$, are data matrices. Many problems such as canonical correlation analysis (CCA) with $m \\ge 2$ data sets, Procrustes analysis with $m \\ge 2$ images, and orthogonal least squares are special cases of OSTM. \n",
    "\n",
    "Details on OTSM are described in paper: \n",
    "\n",
    "* Joong-Ho Won, Hua Zhou, and Kenneth Lange. (2018) Orthogonal trace-sum maximization: applications, local algorithms, and global optimality, [arXiv](https://arxiv.org/abs/1811.03521). "
   ]
  },
  {
   "cell_type": "markdown",
   "metadata": {},
   "source": [
    "## Installation\n",
    "\n",
    "This package requires Julia v1.0 or later, which can be obtained from\n",
    "<https://julialang.org/downloads/> or by building Julia from the sources in the\n",
    "<https://github.com/JuliaLang/julia> repository.\n",
    "\n",
    "The package has not yet been registered and must be installed using the repository location.\n",
    "Start julia and use the `]` key to switch to the package manager REPL\n",
    "```julia\n",
    "(@v1.4) pkg> add https://github.com/Hua-Zhou/OTSM.jl\n",
    "```\n",
    "Use the backspace key to return to the Julia REPL."
   ]
  },
  {
   "cell_type": "code",
   "execution_count": 1,
   "metadata": {},
   "outputs": [
    {
     "name": "stdout",
     "output_type": "stream",
     "text": [
      "Julia Version 1.4.1\n",
      "Commit 381693d3df* (2020-04-14 17:20 UTC)\n",
      "Platform Info:\n",
      "  OS: macOS (x86_64-apple-darwin18.7.0)\n",
      "  CPU: Intel(R) Core(TM) i7-6920HQ CPU @ 2.90GHz\n",
      "  WORD_SIZE: 64\n",
      "  LIBM: libopenlibm\n",
      "  LLVM: libLLVM-8.0.1 (ORCJIT, skylake)\n",
      "Environment:\n",
      "  JULIA_EDITOR = code\n",
      "  JULIA_NUM_THREADS = 4\n"
     ]
    }
   ],
   "source": [
    "versioninfo()"
   ]
  },
  {
   "cell_type": "code",
   "execution_count": 2,
   "metadata": {},
   "outputs": [],
   "source": [
    "# for use in this tutorial\n",
    "using OTSM"
   ]
  },
  {
   "cell_type": "markdown",
   "metadata": {},
   "source": [
    "## Example data\n",
    "\n",
    "The package contains one port wine example data set from the [Hanafi and Kiers (200)](https://doi.org/10.1016/j.csda.2006.04.020) paper. It can be retrieved by the `portwine_data()` function."
   ]
  },
  {
   "cell_type": "code",
   "execution_count": 3,
   "metadata": {},
   "outputs": [],
   "source": [
    "A, S, = portwine_data();"
   ]
  },
  {
   "cell_type": "markdown",
   "metadata": {},
   "source": [
    "Data matrices A1, A2, A3, A4 record the ratings (centered at 0) of $m=4$ accessors on 8 port wines in $d_1=4$, $d_2=3$, $d_3=4$, and $d_4=3$ aspects respectively. "
   ]
  },
  {
   "cell_type": "code",
   "execution_count": 4,
   "metadata": {},
   "outputs": [
    {
     "data": {
      "text/plain": [
       "8×4 Array{Float64,2}:\n",
       "  1.25  -5.0  -1.375   3.875\n",
       " -0.75   1.0  -0.375  -1.125\n",
       "  1.25  -3.0  -1.375   0.875\n",
       " -0.75   2.0   0.625  -0.125\n",
       " -0.75   2.0  -0.375  -0.125\n",
       "  0.25   3.0  -0.375  -3.125\n",
       " -0.75  -1.0   3.625  -1.125\n",
       "  0.25   1.0  -0.375   0.875"
      ]
     },
     "metadata": {},
     "output_type": "display_data"
    },
    {
     "data": {
      "text/plain": [
       "8×3 Array{Float64,2}:\n",
       "  2.0  -4.375   0.625\n",
       "  1.0   1.625   0.625\n",
       "  1.0  -1.375   2.625\n",
       " -1.0   1.625  -1.375\n",
       "  0.0   0.625   0.625\n",
       " -1.0   0.625  -0.375\n",
       " -2.0  -0.375  -2.375\n",
       "  0.0   1.625  -0.375"
      ]
     },
     "metadata": {},
     "output_type": "display_data"
    },
    {
     "data": {
      "text/plain": [
       "8×4 Array{Float64,2}:\n",
       "  3.125   3.0  -2.5   0.75\n",
       " -1.875  -1.0   1.5   0.75\n",
       "  2.125   2.0  -0.5   1.75\n",
       " -1.875  -1.0   1.5  -1.25\n",
       "  1.125   0.0   0.5   0.75\n",
       " -0.875  -1.0   0.5  -0.25\n",
       " -1.875  -1.0  -0.5  -2.25\n",
       "  0.125  -1.0  -0.5  -0.25"
      ]
     },
     "metadata": {},
     "output_type": "display_data"
    },
    {
     "data": {
      "text/plain": [
       "8×3 Array{Float64,2}:\n",
       "  1.0   0.125   0.375\n",
       "  0.0  -0.875  -1.625\n",
       "  2.0  -0.875  -1.625\n",
       " -1.0   0.125  -0.625\n",
       "  0.0   0.125  -0.625\n",
       "  0.0   1.125   1.375\n",
       " -2.0  -1.875   1.375\n",
       "  0.0   2.125   1.375"
      ]
     },
     "metadata": {},
     "output_type": "display_data"
    }
   ],
   "source": [
    "for i in 1:4\n",
    "    display(A[i])\n",
    "end"
   ]
  },
  {
   "cell_type": "markdown",
   "metadata": {},
   "source": [
    "The MAXDIFF approach for CCA seeks the rotations of $A_i$ that achieve the maximal agreement\n",
    "$$\n",
    "\\operatorname{maximize} \\sum_{i < j} \\operatorname{tr} (O_i^T A_i^T A_j O_j),\n",
    "$$\n",
    "subject to constraint $O_i^T O_i = I_r$. This corresponds to an OTSM problem with $S_{ij} = A_i^T A_j$ and $S_{ii} = 0$."
   ]
  },
  {
   "cell_type": "code",
   "execution_count": 5,
   "metadata": {},
   "outputs": [
    {
     "data": {
      "text/plain": [
       "4×4 Array{Float64,2}:\n",
       " 0.0  0.0  0.0  0.0\n",
       " 0.0  0.0  0.0  0.0\n",
       " 0.0  0.0  0.0  0.0\n",
       " 0.0  0.0  0.0  0.0"
      ]
     },
     "metadata": {},
     "output_type": "display_data"
    },
    {
     "data": {
      "text/plain": [
       "3×4 Array{Float64,2}:\n",
       "  5.0   -15.0  -12.0     13.0\n",
       " -9.25   36.0    5.875  -20.375\n",
       "  5.75  -11.0  -14.125    7.625"
      ]
     },
     "metadata": {},
     "output_type": "display_data"
    },
    {
     "data": {
      "text/plain": [
       "3×3 Array{Float64,2}:\n",
       " 0.0  0.0  0.0\n",
       " 0.0  0.0  0.0\n",
       " 0.0  0.0  0.0"
      ]
     },
     "metadata": {},
     "output_type": "display_data"
    },
    {
     "data": {
      "text/plain": [
       "4×4 Array{Float64,2}:\n",
       "  9.75  -26.0  -14.625   21.125\n",
       "  8.0   -27.0  -10.0     18.0\n",
       " -6.0    21.0    2.5    -13.5\n",
       "  4.5    -8.0  -12.75     6.75"
      ]
     },
     "metadata": {},
     "output_type": "display_data"
    },
    {
     "data": {
      "text/plain": [
       "4×3 Array{Float64,2}:\n",
       " 13.0  -21.625  14.375\n",
       " 11.0  -21.0    11.0\n",
       " -5.0   16.5    -2.5\n",
       " 10.0   -5.75   13.25"
      ]
     },
     "metadata": {},
     "output_type": "display_data"
    },
    {
     "data": {
      "text/plain": [
       "4×4 Array{Float64,2}:\n",
       " 0.0  0.0  0.0  0.0\n",
       " 0.0  0.0  0.0  0.0\n",
       " 0.0  0.0  0.0  0.0\n",
       " 0.0  0.0  0.0  0.0"
      ]
     },
     "metadata": {},
     "output_type": "display_data"
    },
    {
     "data": {
      "text/plain": [
       "3×4 Array{Float64,2}:\n",
       " 6.0   -11.0  -12.0     8.0\n",
       " 1.75    9.0   -6.625   1.125\n",
       " 0.25    3.0    6.125  -2.625"
      ]
     },
     "metadata": {},
     "output_type": "display_data"
    },
    {
     "data": {
      "text/plain": [
       "3×3 Array{Float64,2}:\n",
       "  9.0  -8.0    12.0\n",
       "  1.0   4.375   0.375\n",
       " -6.0  -0.875  -8.875"
      ]
     },
     "metadata": {},
     "output_type": "display_data"
    },
    {
     "data": {
      "text/plain": [
       "3×4 Array{Float64,2}:\n",
       " 13.0    10.0  -4.0  10.0\n",
       "  2.875  -2.0  -0.5   1.25\n",
       " -2.375  -4.0  -4.5  -7.25"
      ]
     },
     "metadata": {},
     "output_type": "display_data"
    },
    {
     "data": {
      "text/plain": [
       "3×3 Array{Float64,2}:\n",
       " 0.0  0.0  0.0\n",
       " 0.0  0.0  0.0\n",
       " 0.0  0.0  0.0"
      ]
     },
     "metadata": {},
     "output_type": "display_data"
    }
   ],
   "source": [
    "for i in 1:4, j in 1:i\n",
    "    display(S[i, j])\n",
    "end"
   ]
  },
  {
   "cell_type": "markdown",
   "metadata": {},
   "source": [
    "## Proximal block ascent algorithm\n",
    "\n",
    "The `otsm_bpa()` function implements an efficient local search algorithm for solving OTSM."
   ]
  },
  {
   "cell_type": "code",
   "execution_count": 6,
   "metadata": {},
   "outputs": [
    {
     "name": "stdout",
     "output_type": "stream",
     "text": [
      "iter = 1, obj = 110.25\n",
      "iter = 2, obj = 533.6042318034453\n",
      "iter = 3, obj = 542.2027792984238\n",
      "iter = 4, obj = 542.3265730402211\n",
      "iter = 5, obj = 542.3275463498419\n",
      "iter = 6, obj = 542.3275506295132\n",
      "iter = 7, obj = 542.327550638136\n"
     ]
    }
   ],
   "source": [
    "Ô_pba, ts_pba, obj, history = otsm_pba(S, 2; verbose = true);"
   ]
  },
  {
   "cell_type": "markdown",
   "metadata": {},
   "source": [
    "For documentation of the `otsm_bpa()` function, type ?otsm_bpa in Julia REPL.\n",
    "```\n",
    "@docs\n",
    "otsm_bpa\n",
    "```"
   ]
  },
  {
   "cell_type": "markdown",
   "metadata": {},
   "source": [
    "## Check global optimality of a local solution\n",
    "\n",
    "The `test_optimality()` function attempts to certify whether a local solution `O::Vector{Matrix}` is a global solution. By a local solution, we mean a point that satifies the first order optimality condition:\n",
    "$$\n",
    "\\Lambda_i = \\sum_{j \\ne i} O_i^T S_{ij} O_j\n",
    "$$\n",
    "is symmetric for $i=1,\\ldots,m$. The first output indicates the solution is global optimal (1), or uncertain (0), or suboptimal (-1)."
   ]
  },
  {
   "cell_type": "code",
   "execution_count": 7,
   "metadata": {},
   "outputs": [
    {
     "data": {
      "text/plain": [
       "1"
      ]
     },
     "execution_count": 7,
     "metadata": {},
     "output_type": "execute_result"
    }
   ],
   "source": [
    "# proximal block ascent yields the global solution\n",
    "test_optimality(Ô_pba, S)[1]"
   ]
  },
  {
   "cell_type": "markdown",
   "metadata": {},
   "source": [
    "For documentation of the `test_optimality()` function, type `?test_optimality` in Julia REPL.\n",
    "```\n",
    "@docs\n",
    "test_optimality\n",
    "```"
   ]
  }
 ],
 "metadata": {
  "hide_input": false,
  "kernelspec": {
   "display_name": "Julia 1.4.1",
   "language": "julia",
   "name": "julia-1.4"
  },
  "language_info": {
   "file_extension": ".jl",
   "mimetype": "application/julia",
   "name": "julia",
   "version": "1.4.1"
  },
  "toc": {
   "colors": {
    "hover_highlight": "#DAA520",
    "running_highlight": "#FF0000",
    "selected_highlight": "#FFD700"
   },
   "moveMenuLeft": true,
   "nav_menu": {
    "height": "84px",
    "width": "252px"
   },
   "navigate_menu": true,
   "number_sections": true,
   "sideBar": true,
   "skip_h1_title": true,
   "threshold": 4,
   "toc_cell": false,
   "toc_position": {
    "height": "509px",
    "left": "0px",
    "right": "888.7999877929688px",
    "top": "106px",
    "width": "231px"
   },
   "toc_section_display": "block",
   "toc_window_display": true,
   "widenNotebook": false
  }
 },
 "nbformat": 4,
 "nbformat_minor": 4
}
